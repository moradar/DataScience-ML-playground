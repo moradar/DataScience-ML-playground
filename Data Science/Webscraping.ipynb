{
 "cells": [
  {
   "cell_type": "markdown",
   "metadata": {},
   "source": [
    "# Web Scraping and Data Preprocessing\n",
    "\n",
    "We'll be scraping weather data from https://williamprofit.github.io/ICDSS-Lecture-Webscraping/\n",
    "\n",
    "Hopefully by the end we'll get a useful model to predict temperatures from multiple features.\n",
    "\n",
    "We'll proceed as follows:\n",
    "- Scrape website to create a dataset\n",
    "- Visualise the data\n",
    "- Preprocess the data and create a model"
   ]
  },
  {
   "cell_type": "markdown",
   "metadata": {},
   "source": [
    "## 1. Web Scraping\n",
    "\n",
    "In order to web scrape, we start by importing all necessary libraries and setting some useful constant values."
   ]
  },
  {
   "cell_type": "code",
   "execution_count": null,
   "metadata": {},
   "outputs": [],
   "source": [
    "from bs4 import BeautifulSoup # Used to parse HTML files\n",
    "import pandas as pd           # Used to store data\n",
    "from requests import get      # Used to request website HTML page\n",
    "\n",
    "# URL we'll be scraping from\n",
    "URL = 'https://williamprofit.github.io/ICDSS-Lecture-Webscraping'\n",
    "# File path to save the data to\n",
    "FILE = './data.csv'"
   ]
  },
  {
   "cell_type": "markdown",
   "metadata": {},
   "source": [
    "We create a container to hold our data (empty for now). It contains all the features we'll be extracting and our script will fill it as we go on."
   ]
  },
  {
   "cell_type": "code",
   "execution_count": null,
   "metadata": {},
   "outputs": [],
   "source": [
    "weather_data = {\n",
    "    'temp' : [],\n",
    "    'pressure' : [],\n",
    "    'wind_speed' : [],\n",
    "    'dew_point' : [],\n",
    "    'humidity' : []\n",
    "}"
   ]
  },
  {
   "cell_type": "markdown",
   "metadata": {},
   "source": [
    "From the main page, we need to get the URLs of all the sub pages to scrape from. This is done by scraping the page for the links to the subpages and then visiting them in turn."
   ]
  },
  {
   "cell_type": "code",
   "execution_count": 47,
   "metadata": {},
   "outputs": [],
   "source": [
    "# Get main page\n",
    "resp = get(URL)\n",
    "\n",
    "# Extract text\n",
    "soup = BeautifulSoup(resp.text, 'html.parser')\n",
    "\n",
    "# Extract 'href' fields\n",
    "week_pages = soup.select('li > a')\n",
    "\n",
    "# Extract link ending from 'href' fields\n",
    "week_pages = list(map(lambda x: x.get('href'), week_pages))"
   ]
  },
  {
   "cell_type": "markdown",
   "metadata": {},
   "source": [
    "Now that `week_pages` holds links to all the pages containing the data, we can traverse it and scrape the sub pages."
   ]
  },
  {
   "cell_type": "code",
   "execution_count": 48,
   "metadata": {
    "scrolled": true
   },
   "outputs": [
    {
     "name": "stdout",
     "output_type": "stream",
     "text": [
      "Scraping https://williamprofit.github.io/ICDSS-Lecture-Webscraping/week/20000826.html\n",
      "Scraping https://williamprofit.github.io/ICDSS-Lecture-Webscraping/week/20001028.html\n",
      "Scraping https://williamprofit.github.io/ICDSS-Lecture-Webscraping/week/20001202.html\n",
      "Scraping https://williamprofit.github.io/ICDSS-Lecture-Webscraping/week/20011020.html\n",
      "Scraping https://williamprofit.github.io/ICDSS-Lecture-Webscraping/week/20020518.html\n",
      "Scraping https://williamprofit.github.io/ICDSS-Lecture-Webscraping/week/20050723.html\n",
      "Scraping https://williamprofit.github.io/ICDSS-Lecture-Webscraping/week/20060325.html\n",
      "Scraping https://williamprofit.github.io/ICDSS-Lecture-Webscraping/week/20060415.html\n",
      "Scraping https://williamprofit.github.io/ICDSS-Lecture-Webscraping/week/20060520.html\n",
      "Scraping https://williamprofit.github.io/ICDSS-Lecture-Webscraping/week/20060916.html\n",
      "Scraping https://williamprofit.github.io/ICDSS-Lecture-Webscraping/week/20060930.html\n",
      "Scraping https://williamprofit.github.io/ICDSS-Lecture-Webscraping/week/20061021.html\n",
      "Scraping https://williamprofit.github.io/ICDSS-Lecture-Webscraping/week/20061118.html\n",
      "Scraping https://williamprofit.github.io/ICDSS-Lecture-Webscraping/week/20061209.html\n",
      "Scraping https://williamprofit.github.io/ICDSS-Lecture-Webscraping/week/20061230.html\n",
      "Scraping https://williamprofit.github.io/ICDSS-Lecture-Webscraping/week/20070421.html\n",
      "Scraping https://williamprofit.github.io/ICDSS-Lecture-Webscraping/week/20070505.html\n",
      "Scraping https://williamprofit.github.io/ICDSS-Lecture-Webscraping/week/20070616.html\n",
      "Scraping https://williamprofit.github.io/ICDSS-Lecture-Webscraping/week/20070623.html\n",
      "Scraping https://williamprofit.github.io/ICDSS-Lecture-Webscraping/week/20070630.html\n",
      "Scraping https://williamprofit.github.io/ICDSS-Lecture-Webscraping/week/20070721.html\n",
      "Scraping https://williamprofit.github.io/ICDSS-Lecture-Webscraping/week/20070811.html\n",
      "Scraping https://williamprofit.github.io/ICDSS-Lecture-Webscraping/week/20070922.html\n",
      "Scraping https://williamprofit.github.io/ICDSS-Lecture-Webscraping/week/20071201.html\n",
      "Scraping https://williamprofit.github.io/ICDSS-Lecture-Webscraping/week/20080705.html\n",
      "Scraping https://williamprofit.github.io/ICDSS-Lecture-Webscraping/week/20080712.html\n",
      "Scraping https://williamprofit.github.io/ICDSS-Lecture-Webscraping/week/20080830.html\n",
      "Scraping https://williamprofit.github.io/ICDSS-Lecture-Webscraping/week/20081108.html\n",
      "Scraping https://williamprofit.github.io/ICDSS-Lecture-Webscraping/week/20090711.html\n",
      "Scraping https://williamprofit.github.io/ICDSS-Lecture-Webscraping/week/20090725.html\n",
      "Scraping https://williamprofit.github.io/ICDSS-Lecture-Webscraping/week/20100710.html\n",
      "Scraping https://williamprofit.github.io/ICDSS-Lecture-Webscraping/week/20100807.html\n",
      "Scraping https://williamprofit.github.io/ICDSS-Lecture-Webscraping/week/20100814.html\n",
      "Scraping https://williamprofit.github.io/ICDSS-Lecture-Webscraping/week/20100911.html\n",
      "Scraping https://williamprofit.github.io/ICDSS-Lecture-Webscraping/week/20101009.html\n",
      "Scraping https://williamprofit.github.io/ICDSS-Lecture-Webscraping/week/20110219.html\n",
      "Scraping https://williamprofit.github.io/ICDSS-Lecture-Webscraping/week/20110507.html\n",
      "Scraping https://williamprofit.github.io/ICDSS-Lecture-Webscraping/week/20120728.html\n",
      "Scraping https://williamprofit.github.io/ICDSS-Lecture-Webscraping/week/20121229.html\n",
      "Scraping https://williamprofit.github.io/ICDSS-Lecture-Webscraping/week/20130608.html\n",
      "Scraping https://williamprofit.github.io/ICDSS-Lecture-Webscraping/week/20130810.html\n",
      "Scraping https://williamprofit.github.io/ICDSS-Lecture-Webscraping/week/20130928.html\n",
      "Scraping https://williamprofit.github.io/ICDSS-Lecture-Webscraping/week/20131228.html\n",
      "Scraping https://williamprofit.github.io/ICDSS-Lecture-Webscraping/week/20140315.html\n",
      "Scraping https://williamprofit.github.io/ICDSS-Lecture-Webscraping/week/20140322.html\n",
      "Scraping https://williamprofit.github.io/ICDSS-Lecture-Webscraping/week/20140329.html\n",
      "Scraping https://williamprofit.github.io/ICDSS-Lecture-Webscraping/week/20140405.html\n",
      "Scraping https://williamprofit.github.io/ICDSS-Lecture-Webscraping/week/20140412.html\n",
      "Scraping https://williamprofit.github.io/ICDSS-Lecture-Webscraping/week/20140419.html\n",
      "Scraping https://williamprofit.github.io/ICDSS-Lecture-Webscraping/week/20140426.html\n",
      "Scraping https://williamprofit.github.io/ICDSS-Lecture-Webscraping/week/20140503.html\n",
      "Scraping https://williamprofit.github.io/ICDSS-Lecture-Webscraping/week/20140510.html\n",
      "Scraping https://williamprofit.github.io/ICDSS-Lecture-Webscraping/week/20140517.html\n",
      "Scraping https://williamprofit.github.io/ICDSS-Lecture-Webscraping/week/20140524.html\n",
      "Scraping https://williamprofit.github.io/ICDSS-Lecture-Webscraping/week/20140531.html\n",
      "Scraping https://williamprofit.github.io/ICDSS-Lecture-Webscraping/week/20140607.html\n",
      "Scraping https://williamprofit.github.io/ICDSS-Lecture-Webscraping/week/20140614.html\n",
      "Scraping https://williamprofit.github.io/ICDSS-Lecture-Webscraping/week/20140621.html\n",
      "Scraping https://williamprofit.github.io/ICDSS-Lecture-Webscraping/week/20140628.html\n",
      "Scraping https://williamprofit.github.io/ICDSS-Lecture-Webscraping/week/20140705.html\n",
      "Scraping https://williamprofit.github.io/ICDSS-Lecture-Webscraping/week/20140712.html\n",
      "Scraping https://williamprofit.github.io/ICDSS-Lecture-Webscraping/week/20140719.html\n",
      "Scraping https://williamprofit.github.io/ICDSS-Lecture-Webscraping/week/20140726.html\n",
      "Scraping https://williamprofit.github.io/ICDSS-Lecture-Webscraping/week/20140802.html\n",
      "Scraping https://williamprofit.github.io/ICDSS-Lecture-Webscraping/week/20140809.html\n",
      "Scraping https://williamprofit.github.io/ICDSS-Lecture-Webscraping/week/20140816.html\n",
      "Scraping https://williamprofit.github.io/ICDSS-Lecture-Webscraping/week/20140823.html\n",
      "Scraping https://williamprofit.github.io/ICDSS-Lecture-Webscraping/week/20140830.html\n",
      "Scraping https://williamprofit.github.io/ICDSS-Lecture-Webscraping/week/20140906.html\n",
      "Scraping https://williamprofit.github.io/ICDSS-Lecture-Webscraping/week/20140913.html\n",
      "Scraping https://williamprofit.github.io/ICDSS-Lecture-Webscraping/week/20140920.html\n",
      "Scraping https://williamprofit.github.io/ICDSS-Lecture-Webscraping/week/20140927.html\n",
      "Scraping https://williamprofit.github.io/ICDSS-Lecture-Webscraping/week/20141004.html\n",
      "Scraping https://williamprofit.github.io/ICDSS-Lecture-Webscraping/week/20141018.html\n",
      "Scraping https://williamprofit.github.io/ICDSS-Lecture-Webscraping/week/20141025.html\n",
      "Scraping https://williamprofit.github.io/ICDSS-Lecture-Webscraping/week/20141101.html\n",
      "Scraping https://williamprofit.github.io/ICDSS-Lecture-Webscraping/week/20141108.html\n",
      "Scraping https://williamprofit.github.io/ICDSS-Lecture-Webscraping/week/20141115.html\n",
      "Scraping https://williamprofit.github.io/ICDSS-Lecture-Webscraping/week/20141122.html\n",
      "Scraping https://williamprofit.github.io/ICDSS-Lecture-Webscraping/week/20141129.html\n",
      "Scraping https://williamprofit.github.io/ICDSS-Lecture-Webscraping/week/20141206.html\n",
      "Scraping https://williamprofit.github.io/ICDSS-Lecture-Webscraping/week/20141213.html\n",
      "Scraping https://williamprofit.github.io/ICDSS-Lecture-Webscraping/week/20141220.html\n",
      "Scraping https://williamprofit.github.io/ICDSS-Lecture-Webscraping/week/20141227.html\n",
      "Scraping https://williamprofit.github.io/ICDSS-Lecture-Webscraping/week/20150103.html\n",
      "Scraping https://williamprofit.github.io/ICDSS-Lecture-Webscraping/week/20150110.html\n",
      "Scraping https://williamprofit.github.io/ICDSS-Lecture-Webscraping/week/20150117.html\n",
      "Scraping https://williamprofit.github.io/ICDSS-Lecture-Webscraping/week/20150124.html\n",
      "Scraping https://williamprofit.github.io/ICDSS-Lecture-Webscraping/week/20150131.html\n",
      "Scraping https://williamprofit.github.io/ICDSS-Lecture-Webscraping/week/20150207.html\n",
      "Scraping https://williamprofit.github.io/ICDSS-Lecture-Webscraping/week/20150214.html\n",
      "Scraping https://williamprofit.github.io/ICDSS-Lecture-Webscraping/week/20150221.html\n",
      "Scraping https://williamprofit.github.io/ICDSS-Lecture-Webscraping/week/20150228.html\n",
      "Scraping https://williamprofit.github.io/ICDSS-Lecture-Webscraping/week/20150307.html\n",
      "Scraping https://williamprofit.github.io/ICDSS-Lecture-Webscraping/week/20150314.html\n",
      "Scraping https://williamprofit.github.io/ICDSS-Lecture-Webscraping/week/20150321.html\n"
     ]
    },
    {
     "name": "stdout",
     "output_type": "stream",
     "text": [
      "Scraping https://williamprofit.github.io/ICDSS-Lecture-Webscraping/week/20150328.html\n",
      "Scraping https://williamprofit.github.io/ICDSS-Lecture-Webscraping/week/20150404.html\n",
      "Scraping https://williamprofit.github.io/ICDSS-Lecture-Webscraping/week/20150411.html\n",
      "Scraping https://williamprofit.github.io/ICDSS-Lecture-Webscraping/week/20150418.html\n",
      "Scraping https://williamprofit.github.io/ICDSS-Lecture-Webscraping/week/20150425.html\n",
      "Scraping https://williamprofit.github.io/ICDSS-Lecture-Webscraping/week/20150502.html\n",
      "Scraping https://williamprofit.github.io/ICDSS-Lecture-Webscraping/week/20150509.html\n",
      "Scraping https://williamprofit.github.io/ICDSS-Lecture-Webscraping/week/20150516.html\n",
      "Scraping https://williamprofit.github.io/ICDSS-Lecture-Webscraping/week/20150523.html\n",
      "Scraping https://williamprofit.github.io/ICDSS-Lecture-Webscraping/week/20150530.html\n",
      "Scraping https://williamprofit.github.io/ICDSS-Lecture-Webscraping/week/20150606.html\n",
      "Scraping https://williamprofit.github.io/ICDSS-Lecture-Webscraping/week/20150613.html\n",
      "Scraping https://williamprofit.github.io/ICDSS-Lecture-Webscraping/week/20150620.html\n",
      "Scraping https://williamprofit.github.io/ICDSS-Lecture-Webscraping/week/20150627.html\n",
      "Scraping https://williamprofit.github.io/ICDSS-Lecture-Webscraping/week/20150704.html\n",
      "Scraping https://williamprofit.github.io/ICDSS-Lecture-Webscraping/week/20150711.html\n",
      "Scraping https://williamprofit.github.io/ICDSS-Lecture-Webscraping/week/20150718.html\n",
      "Scraping https://williamprofit.github.io/ICDSS-Lecture-Webscraping/week/20150725.html\n",
      "Scraping https://williamprofit.github.io/ICDSS-Lecture-Webscraping/week/20150801.html\n",
      "Scraping https://williamprofit.github.io/ICDSS-Lecture-Webscraping/week/20150808.html\n",
      "Scraping https://williamprofit.github.io/ICDSS-Lecture-Webscraping/week/20150815.html\n",
      "Scraping https://williamprofit.github.io/ICDSS-Lecture-Webscraping/week/20150822.html\n",
      "Scraping https://williamprofit.github.io/ICDSS-Lecture-Webscraping/week/20150829.html\n",
      "Scraping https://williamprofit.github.io/ICDSS-Lecture-Webscraping/week/20150905.html\n",
      "Scraping https://williamprofit.github.io/ICDSS-Lecture-Webscraping/week/20150912.html\n",
      "Scraping https://williamprofit.github.io/ICDSS-Lecture-Webscraping/week/20150919.html\n",
      "Scraping https://williamprofit.github.io/ICDSS-Lecture-Webscraping/week/20150926.html\n",
      "Scraping https://williamprofit.github.io/ICDSS-Lecture-Webscraping/week/20151003.html\n",
      "Scraping https://williamprofit.github.io/ICDSS-Lecture-Webscraping/week/20151010.html\n",
      "Scraping https://williamprofit.github.io/ICDSS-Lecture-Webscraping/week/20151017.html\n",
      "Scraping https://williamprofit.github.io/ICDSS-Lecture-Webscraping/week/20151024.html\n",
      "Scraping https://williamprofit.github.io/ICDSS-Lecture-Webscraping/week/20151031.html\n",
      "Scraping https://williamprofit.github.io/ICDSS-Lecture-Webscraping/week/20151107.html\n",
      "Scraping https://williamprofit.github.io/ICDSS-Lecture-Webscraping/week/20151114.html\n",
      "Scraping https://williamprofit.github.io/ICDSS-Lecture-Webscraping/week/20151121.html\n",
      "Scraping https://williamprofit.github.io/ICDSS-Lecture-Webscraping/week/20151128.html\n",
      "Scraping https://williamprofit.github.io/ICDSS-Lecture-Webscraping/week/20151205.html\n",
      "Scraping https://williamprofit.github.io/ICDSS-Lecture-Webscraping/week/20151212.html\n",
      "Scraping https://williamprofit.github.io/ICDSS-Lecture-Webscraping/week/20151219.html\n",
      "Scraping https://williamprofit.github.io/ICDSS-Lecture-Webscraping/week/20151226.html\n",
      "Scraping https://williamprofit.github.io/ICDSS-Lecture-Webscraping/week/20160102.html\n",
      "Scraping https://williamprofit.github.io/ICDSS-Lecture-Webscraping/week/20160109.html\n",
      "Scraping https://williamprofit.github.io/ICDSS-Lecture-Webscraping/week/20160116.html\n",
      "Scraping https://williamprofit.github.io/ICDSS-Lecture-Webscraping/week/20160123.html\n",
      "Scraping https://williamprofit.github.io/ICDSS-Lecture-Webscraping/week/20160130.html\n",
      "Scraping https://williamprofit.github.io/ICDSS-Lecture-Webscraping/week/20160206.html\n",
      "Scraping https://williamprofit.github.io/ICDSS-Lecture-Webscraping/week/20160213.html\n",
      "Scraping https://williamprofit.github.io/ICDSS-Lecture-Webscraping/week/20160220.html\n",
      "Scraping https://williamprofit.github.io/ICDSS-Lecture-Webscraping/week/20160227.html\n",
      "Scraping https://williamprofit.github.io/ICDSS-Lecture-Webscraping/week/20160305.html\n",
      "Scraping https://williamprofit.github.io/ICDSS-Lecture-Webscraping/week/20160312.html\n",
      "Scraping https://williamprofit.github.io/ICDSS-Lecture-Webscraping/week/20160319.html\n",
      "Scraping https://williamprofit.github.io/ICDSS-Lecture-Webscraping/week/20160326.html\n",
      "Scraping https://williamprofit.github.io/ICDSS-Lecture-Webscraping/week/20160402.html\n",
      "Scraping https://williamprofit.github.io/ICDSS-Lecture-Webscraping/week/20160409.html\n",
      "Scraping https://williamprofit.github.io/ICDSS-Lecture-Webscraping/week/20160416.html\n",
      "Scraping https://williamprofit.github.io/ICDSS-Lecture-Webscraping/week/20160423.html\n",
      "Scraping https://williamprofit.github.io/ICDSS-Lecture-Webscraping/week/20160430.html\n",
      "Scraping https://williamprofit.github.io/ICDSS-Lecture-Webscraping/week/20160507.html\n",
      "Scraping https://williamprofit.github.io/ICDSS-Lecture-Webscraping/week/20160514.html\n",
      "Scraping https://williamprofit.github.io/ICDSS-Lecture-Webscraping/week/20160521.html\n",
      "Scraping https://williamprofit.github.io/ICDSS-Lecture-Webscraping/week/20160528.html\n",
      "Scraping https://williamprofit.github.io/ICDSS-Lecture-Webscraping/week/20160604.html\n",
      "Scraping https://williamprofit.github.io/ICDSS-Lecture-Webscraping/week/20160611.html\n",
      "Scraping https://williamprofit.github.io/ICDSS-Lecture-Webscraping/week/20160618.html\n",
      "Scraping https://williamprofit.github.io/ICDSS-Lecture-Webscraping/week/20160625.html\n",
      "Scraping https://williamprofit.github.io/ICDSS-Lecture-Webscraping/week/20160702.html\n",
      "Scraping https://williamprofit.github.io/ICDSS-Lecture-Webscraping/week/20160709.html\n",
      "Scraping https://williamprofit.github.io/ICDSS-Lecture-Webscraping/week/20160716.html\n",
      "Scraping https://williamprofit.github.io/ICDSS-Lecture-Webscraping/week/20160723.html\n",
      "Scraping https://williamprofit.github.io/ICDSS-Lecture-Webscraping/week/20160730.html\n",
      "Scraping https://williamprofit.github.io/ICDSS-Lecture-Webscraping/week/20160806.html\n",
      "Scraping https://williamprofit.github.io/ICDSS-Lecture-Webscraping/week/20160813.html\n",
      "Scraping https://williamprofit.github.io/ICDSS-Lecture-Webscraping/week/20160820.html\n",
      "Scraping https://williamprofit.github.io/ICDSS-Lecture-Webscraping/week/20160827.html\n",
      "Scraping https://williamprofit.github.io/ICDSS-Lecture-Webscraping/week/20160903.html\n",
      "Scraping https://williamprofit.github.io/ICDSS-Lecture-Webscraping/week/20160910.html\n",
      "Scraping https://williamprofit.github.io/ICDSS-Lecture-Webscraping/week/20160917.html\n",
      "Scraping https://williamprofit.github.io/ICDSS-Lecture-Webscraping/week/20160924.html\n",
      "Scraping https://williamprofit.github.io/ICDSS-Lecture-Webscraping/week/20161001.html\n",
      "Scraping https://williamprofit.github.io/ICDSS-Lecture-Webscraping/week/20161008.html\n",
      "Scraping https://williamprofit.github.io/ICDSS-Lecture-Webscraping/week/20161015.html\n",
      "Scraping https://williamprofit.github.io/ICDSS-Lecture-Webscraping/week/20161022.html\n",
      "Scraping https://williamprofit.github.io/ICDSS-Lecture-Webscraping/week/20161029.html\n",
      "Scraping https://williamprofit.github.io/ICDSS-Lecture-Webscraping/week/20161105.html\n",
      "Scraping https://williamprofit.github.io/ICDSS-Lecture-Webscraping/week/20161112.html\n",
      "Scraping https://williamprofit.github.io/ICDSS-Lecture-Webscraping/week/20161119.html\n",
      "Scraping https://williamprofit.github.io/ICDSS-Lecture-Webscraping/week/20161126.html\n",
      "Scraping https://williamprofit.github.io/ICDSS-Lecture-Webscraping/week/20161203.html\n",
      "Scraping https://williamprofit.github.io/ICDSS-Lecture-Webscraping/week/20161210.html\n",
      "Scraping https://williamprofit.github.io/ICDSS-Lecture-Webscraping/week/20161217.html\n",
      "Scraping https://williamprofit.github.io/ICDSS-Lecture-Webscraping/week/20161224.html\n",
      "Scraping https://williamprofit.github.io/ICDSS-Lecture-Webscraping/week/20161231.html\n",
      "Scraping https://williamprofit.github.io/ICDSS-Lecture-Webscraping/week/20170107.html\n",
      "Scraping https://williamprofit.github.io/ICDSS-Lecture-Webscraping/week/20170121.html\n",
      "Scraping https://williamprofit.github.io/ICDSS-Lecture-Webscraping/week/20170128.html\n",
      "Scraping https://williamprofit.github.io/ICDSS-Lecture-Webscraping/week/20170204.html\n"
     ]
    },
    {
     "name": "stdout",
     "output_type": "stream",
     "text": [
      "Scraping https://williamprofit.github.io/ICDSS-Lecture-Webscraping/week/20170211.html\n",
      "Scraping https://williamprofit.github.io/ICDSS-Lecture-Webscraping/week/20170218.html\n",
      "Scraping https://williamprofit.github.io/ICDSS-Lecture-Webscraping/week/20170225.html\n",
      "Scraping https://williamprofit.github.io/ICDSS-Lecture-Webscraping/week/20170304.html\n",
      "Scraping https://williamprofit.github.io/ICDSS-Lecture-Webscraping/week/20170311.html\n",
      "Scraping https://williamprofit.github.io/ICDSS-Lecture-Webscraping/week/20170318.html\n",
      "Scraping https://williamprofit.github.io/ICDSS-Lecture-Webscraping/week/20170325.html\n",
      "Scraping https://williamprofit.github.io/ICDSS-Lecture-Webscraping/week/20170401.html\n",
      "Scraping https://williamprofit.github.io/ICDSS-Lecture-Webscraping/week/20170408.html\n",
      "Scraping https://williamprofit.github.io/ICDSS-Lecture-Webscraping/week/20170415.html\n",
      "Scraping https://williamprofit.github.io/ICDSS-Lecture-Webscraping/week/20170422.html\n",
      "Scraping https://williamprofit.github.io/ICDSS-Lecture-Webscraping/week/20170429.html\n",
      "Scraping https://williamprofit.github.io/ICDSS-Lecture-Webscraping/week/20170506.html\n",
      "Scraping https://williamprofit.github.io/ICDSS-Lecture-Webscraping/week/20170513.html\n",
      "Scraping https://williamprofit.github.io/ICDSS-Lecture-Webscraping/week/20170520.html\n",
      "Scraping https://williamprofit.github.io/ICDSS-Lecture-Webscraping/week/20170527.html\n",
      "Scraping https://williamprofit.github.io/ICDSS-Lecture-Webscraping/week/20170603.html\n",
      "Scraping https://williamprofit.github.io/ICDSS-Lecture-Webscraping/week/20170610.html\n",
      "Scraping https://williamprofit.github.io/ICDSS-Lecture-Webscraping/week/20170617.html\n",
      "Scraping https://williamprofit.github.io/ICDSS-Lecture-Webscraping/week/20170624.html\n",
      "Scraping https://williamprofit.github.io/ICDSS-Lecture-Webscraping/week/20170701.html\n",
      "Scraping https://williamprofit.github.io/ICDSS-Lecture-Webscraping/week/20170708.html\n",
      "Scraping https://williamprofit.github.io/ICDSS-Lecture-Webscraping/week/20170715.html\n",
      "Scraping https://williamprofit.github.io/ICDSS-Lecture-Webscraping/week/20170722.html\n",
      "Scraping https://williamprofit.github.io/ICDSS-Lecture-Webscraping/week/20170729.html\n",
      "Scraping https://williamprofit.github.io/ICDSS-Lecture-Webscraping/week/20170805.html\n",
      "Scraping https://williamprofit.github.io/ICDSS-Lecture-Webscraping/week/20170812.html\n",
      "Scraping https://williamprofit.github.io/ICDSS-Lecture-Webscraping/week/20170819.html\n",
      "Scraping https://williamprofit.github.io/ICDSS-Lecture-Webscraping/week/20170826.html\n",
      "Scraping https://williamprofit.github.io/ICDSS-Lecture-Webscraping/week/20170902.html\n",
      "Scraping https://williamprofit.github.io/ICDSS-Lecture-Webscraping/week/20170909.html\n",
      "Scraping https://williamprofit.github.io/ICDSS-Lecture-Webscraping/week/20170916.html\n",
      "Scraping https://williamprofit.github.io/ICDSS-Lecture-Webscraping/week/20170923.html\n",
      "Scraping https://williamprofit.github.io/ICDSS-Lecture-Webscraping/week/20170930.html\n",
      "Scraping https://williamprofit.github.io/ICDSS-Lecture-Webscraping/week/20171007.html\n",
      "Scraping https://williamprofit.github.io/ICDSS-Lecture-Webscraping/week/20171014.html\n",
      "Scraping https://williamprofit.github.io/ICDSS-Lecture-Webscraping/week/20171021.html\n",
      "Scraping https://williamprofit.github.io/ICDSS-Lecture-Webscraping/week/20171028.html\n",
      "Scraping https://williamprofit.github.io/ICDSS-Lecture-Webscraping/week/20171104.html\n",
      "Scraping https://williamprofit.github.io/ICDSS-Lecture-Webscraping/week/20171111.html\n",
      "Scraping https://williamprofit.github.io/ICDSS-Lecture-Webscraping/week/20171118.html\n",
      "Scraping https://williamprofit.github.io/ICDSS-Lecture-Webscraping/week/20171125.html\n",
      "Scraping https://williamprofit.github.io/ICDSS-Lecture-Webscraping/week/20171202.html\n",
      "Scraping https://williamprofit.github.io/ICDSS-Lecture-Webscraping/week/20171209.html\n",
      "Scraping https://williamprofit.github.io/ICDSS-Lecture-Webscraping/week/20171216.html\n",
      "Scraping https://williamprofit.github.io/ICDSS-Lecture-Webscraping/week/20171223.html\n",
      "Scraping https://williamprofit.github.io/ICDSS-Lecture-Webscraping/week/20171230.html\n",
      "Scraping https://williamprofit.github.io/ICDSS-Lecture-Webscraping/week/20180106.html\n",
      "Scraping https://williamprofit.github.io/ICDSS-Lecture-Webscraping/week/20180113.html\n",
      "Scraping https://williamprofit.github.io/ICDSS-Lecture-Webscraping/week/20180120.html\n",
      "Scraping https://williamprofit.github.io/ICDSS-Lecture-Webscraping/week/20180127.html\n",
      "Scraping https://williamprofit.github.io/ICDSS-Lecture-Webscraping/week/20180203.html\n",
      "Scraping https://williamprofit.github.io/ICDSS-Lecture-Webscraping/week/20180210.html\n",
      "Scraping https://williamprofit.github.io/ICDSS-Lecture-Webscraping/week/20180217.html\n",
      "Scraping https://williamprofit.github.io/ICDSS-Lecture-Webscraping/week/20180224.html\n",
      "Scraping https://williamprofit.github.io/ICDSS-Lecture-Webscraping/week/20180303.html\n",
      "Scraping https://williamprofit.github.io/ICDSS-Lecture-Webscraping/week/20180310.html\n",
      "Scraping https://williamprofit.github.io/ICDSS-Lecture-Webscraping/week/20180317.html\n",
      "Scraping https://williamprofit.github.io/ICDSS-Lecture-Webscraping/week/20180324.html\n",
      "Scraping https://williamprofit.github.io/ICDSS-Lecture-Webscraping/week/20180414.html\n",
      "Scraping https://williamprofit.github.io/ICDSS-Lecture-Webscraping/week/20180421.html\n",
      "Scraping https://williamprofit.github.io/ICDSS-Lecture-Webscraping/week/20180428.html\n",
      "Scraping https://williamprofit.github.io/ICDSS-Lecture-Webscraping/week/20180505.html\n",
      "Scraping https://williamprofit.github.io/ICDSS-Lecture-Webscraping/week/20180512.html\n",
      "Scraping https://williamprofit.github.io/ICDSS-Lecture-Webscraping/week/20180519.html\n",
      "Scraping https://williamprofit.github.io/ICDSS-Lecture-Webscraping/week/20180526.html\n",
      "Scraping https://williamprofit.github.io/ICDSS-Lecture-Webscraping/week/20180602.html\n",
      "Scraping https://williamprofit.github.io/ICDSS-Lecture-Webscraping/week/20180609.html\n",
      "Scraping https://williamprofit.github.io/ICDSS-Lecture-Webscraping/week/20180616.html\n",
      "Scraping https://williamprofit.github.io/ICDSS-Lecture-Webscraping/week/20180623.html\n",
      "Scraping https://williamprofit.github.io/ICDSS-Lecture-Webscraping/week/20180630.html\n",
      "Scraping https://williamprofit.github.io/ICDSS-Lecture-Webscraping/week/20180707.html\n",
      "Scraping https://williamprofit.github.io/ICDSS-Lecture-Webscraping/week/20180714.html\n",
      "Scraping https://williamprofit.github.io/ICDSS-Lecture-Webscraping/week/20180721.html\n",
      "Scraping https://williamprofit.github.io/ICDSS-Lecture-Webscraping/week/20180728.html\n",
      "Scraping https://williamprofit.github.io/ICDSS-Lecture-Webscraping/week/20180804.html\n",
      "Scraping https://williamprofit.github.io/ICDSS-Lecture-Webscraping/week/20180811.html\n",
      "Scraping https://williamprofit.github.io/ICDSS-Lecture-Webscraping/week/20180818.html\n",
      "Scraping https://williamprofit.github.io/ICDSS-Lecture-Webscraping/week/20180825.html\n",
      "Scraping https://williamprofit.github.io/ICDSS-Lecture-Webscraping/week/20180901.html\n",
      "Scraping https://williamprofit.github.io/ICDSS-Lecture-Webscraping/week/20180908.html\n",
      "Scraping https://williamprofit.github.io/ICDSS-Lecture-Webscraping/week/20180915.html\n",
      "Scraping https://williamprofit.github.io/ICDSS-Lecture-Webscraping/week/20181006.html\n",
      "Scraping https://williamprofit.github.io/ICDSS-Lecture-Webscraping/week/20181013.html\n",
      "Scraping https://williamprofit.github.io/ICDSS-Lecture-Webscraping/week/20181020.html\n",
      "Scraping https://williamprofit.github.io/ICDSS-Lecture-Webscraping/week/20181027.html\n",
      "Scraping https://williamprofit.github.io/ICDSS-Lecture-Webscraping/week/20181103.html\n",
      "Scraping https://williamprofit.github.io/ICDSS-Lecture-Webscraping/week/20181110.html\n",
      "Scraping https://williamprofit.github.io/ICDSS-Lecture-Webscraping/week/20181117.html\n",
      "Scraping https://williamprofit.github.io/ICDSS-Lecture-Webscraping/week/20181124.html\n",
      "Scraping https://williamprofit.github.io/ICDSS-Lecture-Webscraping/week/20181201.html\n",
      "Done.\n"
     ]
    }
   ],
   "source": [
    "# Scraping all week pages\n",
    "for page in week_pages:\n",
    "    url = URL + '/' + page\n",
    "    print('Scraping {}'.format(url))\n",
    "    \n",
    "    # Take HTML page and parse\n",
    "    out = get(url)\n",
    "    soup_p = BeautifulSoup(out.text, 'html.parser')\n",
    "    \n",
    "    # Get data from all rows except headings\n",
    "    rows = soup_p.select('tr')[1:]\n",
    "    for row in rows:\n",
    "        vals = row.select('th')\n",
    "        vals = list(map(lambda v: v.text, vals))[1:]\n",
    "        \n",
    "        # Store the data\n",
    "        weather_data['temp'].append(vals[0])\n",
    "        weather_data['dew_point'].append(vals[1])\n",
    "        weather_data['humidity'].append(vals[2])\n",
    "        weather_data['wind_speed'].append(vals[3])\n",
    "        weather_data['pressure'].append(vals[4])\n",
    "    \n",
    "print('Done.')"
   ]
  },
  {
   "cell_type": "markdown",
   "metadata": {},
   "source": [
    "We can now save our data using pandas."
   ]
  },
  {
   "cell_type": "code",
   "execution_count": 49,
   "metadata": {},
   "outputs": [
    {
     "name": "stdout",
     "output_type": "stream",
     "text": [
      "Saving in ./data.csv\n"
     ]
    }
   ],
   "source": [
    "# Save in csv file\n",
    "print('Saving in {}'.format(FILE))\n",
    "# Create a pandas dataframe with given feature columns\n",
    "data = pd.DataFrame(weather_data, columns=['temp', 'pressure', 'wind_speed', 'dew_point', 'humidity'])\n",
    "# Save data to file at path FILE\n",
    "data.to_csv(FILE, sep=',')"
   ]
  },
  {
   "cell_type": "markdown",
   "metadata": {},
   "source": [
    "We can now simply load our data from a file instead of web scraping again."
   ]
  },
  {
   "cell_type": "code",
   "execution_count": 50,
   "metadata": {},
   "outputs": [
    {
     "name": "stdout",
     "output_type": "stream",
     "text": [
      "      Unnamed: 0       temp   pressure  wind_speed  dew_point   humidity\n",
      "0              0  66.833333  29.960000    9.166667  54.833333  66.333333\n",
      "1              1  59.166667  29.635000    9.500000  53.000000  80.500000\n",
      "2              2  61.333333  29.555000   10.333333  52.000000  71.333333\n",
      "3              3  63.833333  29.540000   10.500000  52.333333  65.833333\n",
      "4              4  61.333333  29.525000   11.666667  53.000000  74.000000\n",
      "5              5  60.666667  29.510000    7.833333  54.333333  79.500000\n",
      "6              6  57.666667  29.610000    7.333333  54.000000  86.000000\n",
      "7              7  54.714286  29.564286   13.500000  47.750000  79.571429\n",
      "8              8  51.642857  28.945000   21.892857  41.857143  70.321429\n",
      "9              9  51.785714  29.171429   15.250000  41.071429  67.392857\n",
      "10            10  49.500000  29.341786   14.214286  38.071429  65.035714\n",
      "11            11  48.428571  29.199286   11.607143  41.000000  76.178571\n",
      "12            12  47.178571  29.162143    9.607143  38.107143  71.214286\n",
      "13            13  45.964286  29.511429    7.892857  37.285714  73.357143\n",
      "14            14  50.571429  29.856071    7.857143  43.857143  77.250000\n",
      "15            15  52.535714  29.632143   13.071429  47.250000  82.142857\n",
      "16            16  54.678571  29.604286   13.357143  46.857143  75.750000\n",
      "17            17  53.714286  29.581786   10.607143  46.750000  78.714286\n",
      "18            18  49.142857  29.601071    7.500000  45.285714  86.642857\n",
      "19            19  51.357143  29.252857   15.857143  46.035714  83.107143\n",
      "20            20  50.357143  29.458214   11.428571  44.000000  78.357143\n",
      "21            21  57.538462  29.545769    9.500000  53.615385  88.192308\n",
      "22            22  56.230769  29.811154    6.461538  49.846154  79.461538\n",
      "23            23  60.846154  29.799615    8.153846  54.038462  79.307692\n",
      "24            24  58.153846  29.932308    8.230769  52.230769  80.192308\n",
      "25            25  57.115385  30.048846    8.000000  52.230769  83.076923\n",
      "26            26  60.153846  29.990000   10.115385  53.269231  78.115385\n",
      "27            27  57.692308  29.833077    9.807692  52.153846  81.923077\n",
      "28            28  60.862069  29.909655   11.931034  50.206897  68.482759\n",
      "29            29  62.034483  29.862414   10.413793  50.275862  65.517241\n",
      "...          ...        ...        ...         ...        ...        ...\n",
      "5934        5934  51.060000  29.685200   10.340000  46.120000  83.100000\n",
      "5935        5935  53.500000  29.339000    7.920000  49.080000  86.200000\n",
      "5936        5936  53.352941  29.341765    7.313725  49.019608  86.470588\n",
      "5937        5937  53.627451  29.542353    9.411765  46.274510  77.156863\n",
      "5938        5938  53.215686  29.989020   10.000000  45.803922  76.647059\n",
      "5939        5939  54.921569  30.191765    7.882353  46.941176  76.196078\n",
      "5940        5940  54.745098  30.121765    5.529412  52.196078  91.294118\n",
      "5941        5941  50.666667  30.232353    7.647059  49.960784  97.882353\n",
      "5942        5942  48.509804  30.305294   12.000000  44.686275  86.313725\n",
      "5943        5943  48.148148  30.311111   11.166667  43.777778  84.185185\n",
      "5944        5944  47.092593  30.283333   10.722222  38.666667  73.092593\n",
      "5945        5945  44.462963  29.988889   12.777778  37.277778  76.592593\n",
      "5946        5946  38.907407  29.728333    7.518519  36.333333  89.962963\n",
      "5947        5947  38.814815  30.025741    4.685185  34.777778  85.666667\n",
      "5948        5948  43.740741  29.959259    6.240741  41.666667  91.981481\n",
      "5949        5949  47.407407  29.811667    9.111111  44.092593  86.555556\n",
      "5950        5950  47.166667  29.805000    9.500000  42.944444  84.000000\n",
      "5951        5951  45.500000  29.828889    8.018519  39.444444  80.037037\n",
      "5952        5952  43.444444  29.960556    5.222222  39.740741  87.111111\n",
      "5953        5953  50.166667  29.812963    9.611111  47.185185  89.907407\n",
      "5954        5954  56.370370  29.617778   15.055556  51.574074  82.981481\n",
      "5955        5955  51.851852  29.644444   10.537037  43.870370  74.648148\n",
      "5956        5956  50.722222  29.667222    8.888889  46.018519  83.481481\n",
      "5957        5957  52.333333  29.572778    9.481481  48.425926  86.259259\n",
      "5958        5958  57.462963  29.436667   14.037037  52.277778  82.370370\n",
      "5959        5959  49.240741  29.713889   10.129630  42.777778  79.000000\n",
      "5960        5960  46.777778  30.117222    6.759259  42.000000  84.018519\n",
      "5961        5961  54.851852  29.871667   10.407407  51.148148  86.870370\n",
      "5962        5962  54.759259  29.691667   14.370370  49.481481  81.740741\n",
      "5963        5963  49.851852  29.586111   18.759259  41.296296  72.629630\n",
      "\n",
      "[5964 rows x 6 columns]\n"
     ]
    }
   ],
   "source": [
    "data = pd.read_csv(FILE)\n",
    "print(data)"
   ]
  },
  {
   "cell_type": "markdown",
   "metadata": {},
   "source": [
    "## 2. Visualisation\n",
    "In order to create a performant model, it's important to visualise the data to get an intuition of how it could be modeled. We typically plot the predicted feature against other features and compute correlation coefficients."
   ]
  },
  {
   "cell_type": "markdown",
   "metadata": {},
   "source": [
    "### Plotting graphs\n",
    "We can start plotting graphs to visualise how the temperature evolves with different metrics. We create a list `days` which simply enumerates the days from 0 to `len(data)` which will be used for the x-axis. This can be achieved using the range function and making it into a list."
   ]
  },
  {
   "cell_type": "code",
   "execution_count": 55,
   "metadata": {},
   "outputs": [],
   "source": [
    "%matplotlib inline\n",
    "import matplotlib.pyplot as plt\n",
    "\n",
    "# Creating x-axis (days)\n",
    "days = list(range(len(data)))"
   ]
  },
  {
   "cell_type": "markdown",
   "metadata": {},
   "source": [
    "Let's plot the temperature with pressure. The syntax of the plot function is as follows: `plt.plot(x-axis, y-axis, x-axis, y-axis, ..)`."
   ]
  },
  {
   "cell_type": "code",
   "execution_count": 56,
   "metadata": {},
   "outputs": [
    {
     "data": {
      "text/plain": [
       "[<matplotlib.lines.Line2D at 0x11b812cc0>,\n",
       " <matplotlib.lines.Line2D at 0x11b812da0>]"
      ]
     },
     "execution_count": 56,
     "metadata": {},
     "output_type": "execute_result"
    },
    {
     "data": {
      "image/png": "[encoded data removed]",
      "text/plain": [
       "<Figure size 432x288 with 1 Axes>"
      ]
     },
     "metadata": {
      "needs_background": "light"
     },
     "output_type": "display_data"
    }
   ],
   "source": [
    "plt.xlabel('Days')\n",
    "plt.ylabel('Temp, Pressure')\n",
    "plt.plot(days, data['temp'], days, data['pressure'])"
   ]
  },
  {
   "cell_type": "markdown",
   "metadata": {},
   "source": [
    "We continue with temperature and wind speed:"
   ]
  },
  {
   "cell_type": "code",
   "execution_count": 57,
   "metadata": {},
   "outputs": [
    {
     "data": {
      "text/plain": [
       "[<matplotlib.lines.Line2D at 0x11bdabdd8>,\n",
       " <matplotlib.lines.Line2D at 0x11bdabf28>]"
      ]
     },
     "execution_count": 57,
     "metadata": {},
     "output_type": "execute_result"
    },
    {
     "data": {
      "image/png": "[encoded data removed]",
      "text/plain": [
       "<Figure size 432x288 with 1 Axes>"
      ]
     },
     "metadata": {
      "needs_background": "light"
     },
     "output_type": "display_data"
    }
   ],
   "source": [
    "plt.xlabel('Days')\n",
    "plt.ylabel('Temp, Wind Speed')\n",
    "plt.plot(days, data['temp'], days, data['wind_speed'])"
   ]
  },
  {
   "cell_type": "markdown",
   "metadata": {},
   "source": [
    "Now temperature and dew point:"
   ]
  },
  {
   "cell_type": "code",
   "execution_count": 58,
   "metadata": {},
   "outputs": [
    {
     "data": {
      "text/plain": [
       "[<matplotlib.lines.Line2D at 0x119a409e8>,\n",
       " <matplotlib.lines.Line2D at 0x119a40b38>]"
      ]
     },
     "execution_count": 58,
     "metadata": {},
     "output_type": "execute_result"
    },
    {
     "data": {
      "image/png": "[encoded data removed]",
      "text/plain": [
       "<Figure size 432x288 with 1 Axes>"
      ]
     },
     "metadata": {
      "needs_background": "light"
     },
     "output_type": "display_data"
    }
   ],
   "source": [
    "plt.xlabel('Days')\n",
    "plt.ylabel('Temp, Dew Point')\n",
    "plt.plot(days, data['temp'], days, data['dew_point'])"
   ]
  },
  {
   "cell_type": "markdown",
   "metadata": {},
   "source": [
    "And finally temperature and humidity:"
   ]
  },
  {
   "cell_type": "code",
   "execution_count": 59,
   "metadata": {},
   "outputs": [
    {
     "data": {
      "text/plain": [
       "[<matplotlib.lines.Line2D at 0x119e3cba8>,\n",
       " <matplotlib.lines.Line2D at 0x119e3ccf8>]"
      ]
     },
     "execution_count": 59,
     "metadata": {},
     "output_type": "execute_result"
    },
    {
     "data": {
      "image/png": "[encoded data removed]",
      "text/plain": [
       "<Figure size 432x288 with 1 Axes>"
      ]
     },
     "metadata": {
      "needs_background": "light"
     },
     "output_type": "display_data"
    }
   ],
   "source": [
    "plt.xlabel('Days')\n",
    "plt.ylabel('Temp, Humidity')\n",
    "plt.plot(days, data['temp'], days, data['humidity'])"
   ]
  },
  {
   "cell_type": "markdown",
   "metadata": {},
   "source": [
    "The graphs can now be used to visually get an intuition of how each feature relates to the one we're trying to predict."
   ]
  },
  {
   "cell_type": "markdown",
   "metadata": {},
   "source": [
    "### Computing correlation coefficients\n",
    "Graphs are useful but sometimes they can be difficult to interpret and having a standard way of determining how correlated two features are can come in quite handy. For several metrics can help, we'll be looking at the covariance. Numpy has a handy `cov` function that we'll be using. The function returns 4 values in a 2D array but we're only interested in the value at `[0][1]`."
   ]
  },
  {
   "cell_type": "code",
   "execution_count": 63,
   "metadata": {},
   "outputs": [
    {
     "name": "stdout",
     "output_type": "stream",
     "text": [
      "temp vs pressure: cov=0.06872303554264414\n",
      "temp vs wind_speed: cov=-1.450920737910287\n",
      "temp vs dew_point: cov=66.84761822406303\n",
      "temp vs humidity: cov=-36.67691213138593\n"
     ]
    }
   ],
   "source": [
    "from numpy import cov\n",
    "\n",
    "pressure_cov = cov(data['temp'],data['pressure'])[0][1]\n",
    "wind_cov = cov(data['temp'], data['wind_speed'])[0][1]\n",
    "dew_cov = cov(data['temp'], data['dew_point'])[0][1]\n",
    "humidity_cov = cov(data['temp'], data['humidity'])[0][1]\n",
    "\n",
    "print('temp vs pressure: cov={}'.format(pressure_cov))\n",
    "print('temp vs wind_speed: cov={}'.format(wind_cov))\n",
    "print('temp vs dew_point: cov={}'.format(dew_cov))\n",
    "print('temp vs humidity: cov={}'.format(humidity_cov))"
   ]
  },
  {
   "cell_type": "markdown",
   "metadata": {},
   "source": [
    "This gives us a better idea of correlations between our features. The higher the covariance factor the higher the correlation. If the covariance is negative then the two features are inversely correlated. We can use all this information to decide which features to select for our model."
   ]
  },
  {
   "cell_type": "markdown",
   "metadata": {},
   "source": [
    "## 3. Preprocessing and Modelling\n",
    "\n",
    "Our data is well balanced and is not categorical so there is no need to balance, augment or one-hot-encode it. We'll only be normalising it to have it in a range of `0-1`. For that we'll use the following formula $X_{normalised}=\\frac{X-min(X)}{max(X)-min(X)}$:"
   ]
  },
  {
   "cell_type": "code",
   "execution_count": 67,
   "metadata": {},
   "outputs": [],
   "source": [
    "from sklearn import preprocessing\n",
    "from sklearn.linear_model import LinearRegression\n",
    "from sklearn.model_selection import train_test_split\n",
    "import numpy as np\n",
    "\n",
    "# Normalise data (min-max normalisation)\n",
    "data = (data - data.min())/(data.max() - data.min())"
   ]
  },
  {
   "cell_type": "markdown",
   "metadata": {},
   "source": [
    "We now split our data into two vectors `X` and `y`. `y` contains the column we want to predict, namely the temperature. `X` contains all the columns (features) we'll use to predict the temperature. "
   ]
  },
  {
   "cell_type": "code",
   "execution_count": 70,
   "metadata": {},
   "outputs": [],
   "source": [
    "# Features used for predictions\n",
    "feat = ['humidity', 'pressure', 'dew_point']\n",
    "\n",
    "X = data[feat].to_numpy()\n",
    "y = data['temp'].to_numpy()"
   ]
  },
  {
   "cell_type": "markdown",
   "metadata": {},
   "source": [
    "To better evaluate our model we separate the data into a training and a testing set. The training set is fed to the model to train and the test set contains data the model has not trained on so we can compute accuracy on unseen data. To achieve this, scikit has the `train_test_split` functions which splits and shuffles the data into 4 partitions for X/y and train/test."
   ]
  },
  {
   "cell_type": "code",
   "execution_count": 71,
   "metadata": {},
   "outputs": [],
   "source": [
    "X_train, X_test, y_train, y_test = train_test_split(\n",
    "    X,\n",
    "    y,\n",
    "    train_size = 0.75,\n",
    "    test_size = 0.25,\n",
    "    random_state = 0,\n",
    ")"
   ]
  },
  {
   "cell_type": "markdown",
   "metadata": {},
   "source": [
    "We finally create a linear regression model using the training set and gauge the accuracy on the test set:"
   ]
  },
  {
   "cell_type": "code",
   "execution_count": 72,
   "metadata": {},
   "outputs": [
    {
     "data": {
      "text/plain": [
       "0.9967263659588955"
      ]
     },
     "execution_count": 72,
     "metadata": {},
     "output_type": "execute_result"
    }
   ],
   "source": [
    "reg = LinearRegression()\n",
    "\n",
    "reg.fit(X = X_train, y = y_train)\n",
    "\n",
    "reg.score(X = X_test, y = y_test)"
   ]
  },
  {
   "cell_type": "markdown",
   "metadata": {},
   "source": [
    "And that's it! We now have a handy model to predict temperatures."
   ]
  },
  {
   "cell_type": "markdown",
   "metadata": {},
   "source": [
    "_William Profit (williamprofit.com) on behalf of ICDSS (icdss.uk)_"
   ]
  }
 ],
 "metadata": {
  "kernelspec": {
   "display_name": "Python 3",
   "language": "python",
   "name": "python3"
  },
  "language_info": {
   "codemirror_mode": {
    "name": "ipython",
    "version": 3
   },
   "file_extension": ".py",
   "mimetype": "text/x-python",
   "name": "python",
   "nbconvert_exporter": "python",
   "pygments_lexer": "ipython3",
   "version": "3.7.3"
  }
 },
 "nbformat": 4,
 "nbformat_minor": 4
}
